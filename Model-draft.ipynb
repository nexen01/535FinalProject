{
 "cells": [
  {
   "cell_type": "code",
   "execution_count": 1,
   "id": "cffa46c7",
   "metadata": {},
   "outputs": [
    {
     "name": "stdout",
     "output_type": "stream",
     "text": [
      "Requirement already satisfied: cplex in /Users/alishakhan/opt/miniconda3/envs/alishadev/lib/python3.9/site-packages (22.1.0.0)\n",
      "Note: you may need to restart the kernel to use updated packages.\n"
     ]
    }
   ],
   "source": [
    "pip install cplex"
   ]
  },
  {
   "cell_type": "code",
   "execution_count": 2,
   "id": "673f75e8",
   "metadata": {},
   "outputs": [
    {
     "name": "stdout",
     "output_type": "stream",
     "text": [
      "Requirement already satisfied: docplex in /Users/alishakhan/opt/miniconda3/envs/alishadev/lib/python3.9/site-packages (2.23.222)\n",
      "Requirement already satisfied: six in /Users/alishakhan/opt/miniconda3/envs/alishadev/lib/python3.9/site-packages (from docplex) (1.15.0)\n",
      "Note: you may need to restart the kernel to use updated packages.\n"
     ]
    }
   ],
   "source": [
    "pip install docplex"
   ]
  },
  {
   "cell_type": "code",
   "execution_count": 3,
   "id": "c869e101",
   "metadata": {},
   "outputs": [],
   "source": [
    "import sys\n",
    "from docplex.cp.model import *"
   ]
  },
  {
   "cell_type": "code",
   "execution_count": 4,
   "id": "8a9e786a",
   "metadata": {},
   "outputs": [],
   "source": [
    "model=CpoModel()"
   ]
  },
  {
   "cell_type": "code",
   "execution_count": 5,
   "id": "8c4a249e",
   "metadata": {},
   "outputs": [],
   "source": [
    "import pandas as pd"
   ]
  },
  {
   "cell_type": "code",
   "execution_count": 6,
   "id": "8e8b7daf",
   "metadata": {},
   "outputs": [
    {
     "name": "stdout",
     "output_type": "stream",
     "text": [
      "Enter the course you would like to take CS115\n",
      "Enter the course you would like to take CS100\n",
      "Enter the course you would like to take EXIT\n"
     ]
    }
   ],
   "source": [
    "classes_to_take=[]\n",
    "val=\"class\"\n",
    "val=input(\"Enter the course you would like to take \")\n",
    "while val.lower()!=\"exit\":\n",
    "    classes_to_take.append(val)\n",
    "    val=input(\"Enter the course you would like to take \")\n",
    "    "
   ]
  },
  {
   "cell_type": "code",
   "execution_count": 7,
   "id": "b90a43bc",
   "metadata": {},
   "outputs": [
    {
     "data": {
      "text/html": [
       "<div>\n",
       "<style scoped>\n",
       "    .dataframe tbody tr th:only-of-type {\n",
       "        vertical-align: middle;\n",
       "    }\n",
       "\n",
       "    .dataframe tbody tr th {\n",
       "        vertical-align: top;\n",
       "    }\n",
       "\n",
       "    .dataframe thead th {\n",
       "        text-align: right;\n",
       "    }\n",
       "</style>\n",
       "<table border=\"1\" class=\"dataframe\">\n",
       "  <thead>\n",
       "    <tr style=\"text-align: right;\">\n",
       "      <th></th>\n",
       "      <th>Course Name</th>\n",
       "      <th>CRN</th>\n",
       "      <th>Credits</th>\n",
       "      <th>Days</th>\n",
       "      <th>Time</th>\n",
       "      <th>Course Quality</th>\n",
       "      <th>Professor Difficulty</th>\n",
       "    </tr>\n",
       "  </thead>\n",
       "  <tbody>\n",
       "    <tr>\n",
       "      <th>0</th>\n",
       "      <td>CS100</td>\n",
       "      <td>1</td>\n",
       "      <td>3</td>\n",
       "      <td>F</td>\n",
       "      <td>1350 - 1505</td>\n",
       "      <td>1</td>\n",
       "      <td>1</td>\n",
       "    </tr>\n",
       "    <tr>\n",
       "      <th>1</th>\n",
       "      <td>CS100</td>\n",
       "      <td>2</td>\n",
       "      <td>3</td>\n",
       "      <td>M</td>\n",
       "      <td>1515 - 1630</td>\n",
       "      <td>2</td>\n",
       "      <td>1</td>\n",
       "    </tr>\n",
       "    <tr>\n",
       "      <th>2</th>\n",
       "      <td>CS100</td>\n",
       "      <td>3</td>\n",
       "      <td>3</td>\n",
       "      <td>MW</td>\n",
       "      <td>1700 - 1815</td>\n",
       "      <td>3</td>\n",
       "      <td>3</td>\n",
       "    </tr>\n",
       "    <tr>\n",
       "      <th>3</th>\n",
       "      <td>CS115</td>\n",
       "      <td>4</td>\n",
       "      <td>3</td>\n",
       "      <td>TR</td>\n",
       "      <td>1825 - 1940</td>\n",
       "      <td>1</td>\n",
       "      <td>2</td>\n",
       "    </tr>\n",
       "    <tr>\n",
       "      <th>4</th>\n",
       "      <td>CS115</td>\n",
       "      <td>5</td>\n",
       "      <td>3</td>\n",
       "      <td>F</td>\n",
       "      <td>1350 - 1505</td>\n",
       "      <td>2</td>\n",
       "      <td>2</td>\n",
       "    </tr>\n",
       "  </tbody>\n",
       "</table>\n",
       "</div>"
      ],
      "text/plain": [
       "  Course Name  CRN  Credits Days         Time  Course Quality  \\\n",
       "0       CS100    1        3    F  1350 - 1505               1   \n",
       "1       CS100    2        3    M  1515 - 1630               2   \n",
       "2       CS100    3        3   MW  1700 - 1815               3   \n",
       "3       CS115    4        3   TR  1825 - 1940               1   \n",
       "4       CS115    5        3    F  1350 - 1505               2   \n",
       "\n",
       "   Professor Difficulty  \n",
       "0                     1  \n",
       "1                     1  \n",
       "2                     3  \n",
       "3                     2  \n",
       "4                     2  "
      ]
     },
     "execution_count": 7,
     "metadata": {},
     "output_type": "execute_result"
    }
   ],
   "source": [
    "#constraint: for classes in classes_to_take, the value must be 1\n",
    "df=pd.read_csv(\"/Users/alishakhan/Desktop/School/SPRING-22/MATH535/Project/Sample-Data.csv\")\n",
    "df.head()"
   ]
  },
  {
   "cell_type": "code",
   "execution_count": 8,
   "id": "0e7f54ab",
   "metadata": {},
   "outputs": [],
   "source": [
    "#creating binary vars for each class\n",
    "classes=[]\n",
    "for index, row in df.iterrows():\n",
    "    classes.append(model.integer_var(min=0, max=1, name=\"crn\"+str(row['CRN'])))    \n",
    "    #print(\"crn\"+str(row['CRN']))\n",
    "df['Vars']=classes"
   ]
  },
  {
   "cell_type": "code",
   "execution_count": 9,
   "id": "44c1296c",
   "metadata": {},
   "outputs": [
    {
     "data": {
      "text/html": [
       "<div>\n",
       "<style scoped>\n",
       "    .dataframe tbody tr th:only-of-type {\n",
       "        vertical-align: middle;\n",
       "    }\n",
       "\n",
       "    .dataframe tbody tr th {\n",
       "        vertical-align: top;\n",
       "    }\n",
       "\n",
       "    .dataframe thead th {\n",
       "        text-align: right;\n",
       "    }\n",
       "</style>\n",
       "<table border=\"1\" class=\"dataframe\">\n",
       "  <thead>\n",
       "    <tr style=\"text-align: right;\">\n",
       "      <th></th>\n",
       "      <th>Course Name</th>\n",
       "      <th>CRN</th>\n",
       "      <th>Credits</th>\n",
       "      <th>Days</th>\n",
       "      <th>Time</th>\n",
       "      <th>Course Quality</th>\n",
       "      <th>Professor Difficulty</th>\n",
       "      <th>Vars</th>\n",
       "    </tr>\n",
       "  </thead>\n",
       "  <tbody>\n",
       "    <tr>\n",
       "      <th>0</th>\n",
       "      <td>CS100</td>\n",
       "      <td>1</td>\n",
       "      <td>3</td>\n",
       "      <td>F</td>\n",
       "      <td>1350 - 1505</td>\n",
       "      <td>1</td>\n",
       "      <td>1</td>\n",
       "      <td>crn1 = intVar(0, 1)</td>\n",
       "    </tr>\n",
       "    <tr>\n",
       "      <th>1</th>\n",
       "      <td>CS100</td>\n",
       "      <td>2</td>\n",
       "      <td>3</td>\n",
       "      <td>M</td>\n",
       "      <td>1515 - 1630</td>\n",
       "      <td>2</td>\n",
       "      <td>1</td>\n",
       "      <td>crn2 = intVar(0, 1)</td>\n",
       "    </tr>\n",
       "    <tr>\n",
       "      <th>2</th>\n",
       "      <td>CS100</td>\n",
       "      <td>3</td>\n",
       "      <td>3</td>\n",
       "      <td>MW</td>\n",
       "      <td>1700 - 1815</td>\n",
       "      <td>3</td>\n",
       "      <td>3</td>\n",
       "      <td>crn3 = intVar(0, 1)</td>\n",
       "    </tr>\n",
       "    <tr>\n",
       "      <th>3</th>\n",
       "      <td>CS115</td>\n",
       "      <td>4</td>\n",
       "      <td>3</td>\n",
       "      <td>TR</td>\n",
       "      <td>1825 - 1940</td>\n",
       "      <td>1</td>\n",
       "      <td>2</td>\n",
       "      <td>crn4 = intVar(0, 1)</td>\n",
       "    </tr>\n",
       "    <tr>\n",
       "      <th>4</th>\n",
       "      <td>CS115</td>\n",
       "      <td>5</td>\n",
       "      <td>3</td>\n",
       "      <td>F</td>\n",
       "      <td>1350 - 1505</td>\n",
       "      <td>2</td>\n",
       "      <td>2</td>\n",
       "      <td>crn5 = intVar(0, 1)</td>\n",
       "    </tr>\n",
       "  </tbody>\n",
       "</table>\n",
       "</div>"
      ],
      "text/plain": [
       "  Course Name  CRN  Credits Days         Time  Course Quality  \\\n",
       "0       CS100    1        3    F  1350 - 1505               1   \n",
       "1       CS100    2        3    M  1515 - 1630               2   \n",
       "2       CS100    3        3   MW  1700 - 1815               3   \n",
       "3       CS115    4        3   TR  1825 - 1940               1   \n",
       "4       CS115    5        3    F  1350 - 1505               2   \n",
       "\n",
       "   Professor Difficulty                 Vars  \n",
       "0                     1  crn1 = intVar(0, 1)  \n",
       "1                     1  crn2 = intVar(0, 1)  \n",
       "2                     3  crn3 = intVar(0, 1)  \n",
       "3                     2  crn4 = intVar(0, 1)  \n",
       "4                     2  crn5 = intVar(0, 1)  "
      ]
     },
     "execution_count": 9,
     "metadata": {},
     "output_type": "execute_result"
    }
   ],
   "source": [
    "df.head()"
   ]
  },
  {
   "cell_type": "code",
   "execution_count": 10,
   "id": "04409f1a",
   "metadata": {},
   "outputs": [],
   "source": [
    "for x in classes_to_take:\n",
    "    #add constraint that at most ONE of the classes with the course name can be taken\n",
    "    model.add_constraint(df.loc[df['Course Name'] == x]['Vars'].sum()==1)\n",
    "#don't have to do credit constraint because of the above constraint"
   ]
  },
  {
   "cell_type": "code",
   "execution_count": 11,
   "id": "de2e2a94",
   "metadata": {},
   "outputs": [
    {
     "name": "stdout",
     "output_type": "stream",
     "text": [
      "Model: <ipython-input-4-d82fdc81c514>\n",
      " - source file: <ipython-input-4-d82fdc81c514>\n",
      " - modeling time: 8.26 sec\n",
      " - number of integer variables:  5\n",
      " - number of interval variables: 0\n",
      " - number of sequence variables: 0\n",
      " - number of state functions:    0\n",
      " - number of float variables:    0\n",
      " - number of constraints:        2\n",
      " - number of root expressions:   2\n",
      " - number of expression nodes:   12\n",
      " - operations:                   equal: 2, plus: 3\n"
     ]
    }
   ],
   "source": [
    "#observe that constraints were added\n",
    "model.print_information()"
   ]
  },
  {
   "cell_type": "code",
   "execution_count": 12,
   "id": "a5d5191c",
   "metadata": {},
   "outputs": [
    {
     "data": {
      "text/plain": [
       "<docplex.cp.expression.CpoFunctionCall at 0x7fa9ceffd840>"
      ]
     },
     "execution_count": 12,
     "metadata": {},
     "output_type": "execute_result"
    }
   ],
   "source": [
    "#creating minimization function (course quality and prof difficulty)\n",
    "min_func=0\n",
    "for index, row in df.iterrows():\n",
    "    min_func+=((5-row['Course Quality'])+row['Professor Difficulty'])*row['Vars']\n",
    "\n",
    "min_func"
   ]
  },
  {
   "cell_type": "code",
   "execution_count": 13,
   "id": "47f246b7",
   "metadata": {},
   "outputs": [
    {
     "name": "stdout",
     "output_type": "stream",
     "text": [
      " ! --------------------------------------------------- CP Optimizer 22.1.0.0 --\n",
      " ! Minimization problem - 8 variables, 2 constraints\n",
      " ! Presolve      : 4 extractables eliminated\n",
      " ! Initial process time : 0.01s (0.01s extraction + 0.00s propagation)\n",
      " !  . Log search space  : 8.0 (before), 8.0 (after)\n",
      " !  . Memory usage      : 267.6 kB (before), 267.6 kB (after)\n",
      " ! Using parallel search with 8 workers.\n",
      " ! ----------------------------------------------------------------------------\n",
      " !          Best Branches  Non-fixed    W       Branch decision\n",
      "                        0          8                 -\n",
      " + New bound is 0\n",
      "                        0          8    1            -\n",
      " + New bound is 5\n",
      "                        0          8    1   F        -\n",
      " + New bound is 6\n",
      " *            10        6  0.03s        1      (gap is 40.00%)\n",
      " *             9       41  0.03s        1      (gap is 33.33%)\n",
      "               9       61          1    1            -\n",
      " + New bound is 9 (gap is 0.00%)\n",
      " ! ----------------------------------------------------------------------------\n",
      " ! Search completed, 2 solutions found.\n",
      " ! Best objective         : 9 (optimal - effective tol. is 0)\n",
      " ! Best bound             : 9\n",
      " ! ----------------------------------------------------------------------------\n",
      " ! Number of branches     : 4236\n",
      " ! Number of fails        : 2604\n",
      " ! Total memory usage     : 4.1 MB (4.1 MB CP Optimizer + 0.0 MB Concert)\n",
      " ! Time spent in solve    : 0.03s (0.02s engine + 0.01s extraction)\n",
      " ! Search speed (br. / s) : 211800.2\n",
      " ! ----------------------------------------------------------------------------\n",
      "-------------------------------------------------------------------------------\n",
      "Model constraints: 2, variables: integer: 8, interval: 0, sequence: 0\n",
      "Solve status: Optimal\n",
      "Search status: SearchCompleted, stop cause: SearchHasNotBeenStopped\n",
      "Solve time: 0.03 sec\n",
      "-------------------------------------------------------------------------------\n",
      "Objective values: (9,), bounds: (9,), gaps: (0,)\n",
      "Variables:\n",
      "   crn1 = 0\n",
      "   crn2 = 1\n",
      "   crn3 = 0\n",
      "   crn4 = 0\n",
      "   crn5 = 1\n",
      "   crn6 = 0\n",
      "   crn7 = 0\n",
      "   crn8 = 0\n"
     ]
    }
   ],
   "source": [
    "#solving model\n",
    "min_func=model.minimize(min_func)\n",
    "model.add(min_func)\n",
    "sol=model.solve()\n",
    "sol.print_solution()"
   ]
  }
 ],
 "metadata": {
  "kernelspec": {
   "display_name": "Python 3",
   "language": "python",
   "name": "python3"
  },
  "language_info": {
   "codemirror_mode": {
    "name": "ipython",
    "version": 3
   },
   "file_extension": ".py",
   "mimetype": "text/x-python",
   "name": "python",
   "nbconvert_exporter": "python",
   "pygments_lexer": "ipython3",
   "version": "3.9.4"
  }
 },
 "nbformat": 4,
 "nbformat_minor": 5
}

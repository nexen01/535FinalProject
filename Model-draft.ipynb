{
 "cells": [
  {
   "cell_type": "code",
   "execution_count": 1,
   "id": "cffa46c7",
   "metadata": {},
   "outputs": [
    {
     "name": "stdout",
     "output_type": "stream",
     "text": [
      "Collecting cplex\n",
      "  Downloading cplex-22.1.0.0-cp39-cp39-macosx_10_6_x86_64.whl (39.6 MB)\n",
      "\u001b[K     |████████████████████████████████| 39.6 MB 67.7 MB/s eta 0:00:01\n",
      "\u001b[?25hInstalling collected packages: cplex\n",
      "Successfully installed cplex-22.1.0.0\n",
      "Note: you may need to restart the kernel to use updated packages.\n"
     ]
    }
   ],
   "source": [
    "pip install cplex"
   ]
  },
  {
   "cell_type": "code",
   "execution_count": 3,
   "id": "673f75e8",
   "metadata": {},
   "outputs": [
    {
     "name": "stdout",
     "output_type": "stream",
     "text": [
      "Collecting docplex\n",
      "  Downloading docplex-2.23.222.tar.gz (610 kB)\n",
      "\u001b[K     |████████████████████████████████| 610 kB 2.8 MB/s eta 0:00:01\n",
      "\u001b[?25hRequirement already satisfied: six in /Users/alishakhan/opt/miniconda3/envs/alishadev/lib/python3.9/site-packages (from docplex) (1.15.0)\n",
      "Building wheels for collected packages: docplex\n",
      "  Building wheel for docplex (setup.py) ... \u001b[?25ldone\n",
      "\u001b[?25h  Created wheel for docplex: filename=docplex-2.23.222-py3-none-any.whl size=662819 sha256=43925313c8d3d087c6250adb637c5d44fd4958f97839c22a8c17689c0dcf62f4\n",
      "  Stored in directory: /Users/alishakhan/Library/Caches/pip/wheels/5e/4c/27/b3b3229ab9a25a089d5c01551d7c2e7efa41462635066784a0\n",
      "Successfully built docplex\n",
      "Installing collected packages: docplex\n",
      "Successfully installed docplex-2.23.222\n",
      "Note: you may need to restart the kernel to use updated packages.\n"
     ]
    }
   ],
   "source": [
    "pip install docplex"
   ]
  },
  {
   "cell_type": "code",
   "execution_count": 4,
   "id": "c869e101",
   "metadata": {},
   "outputs": [],
   "source": [
    "import sys\n",
    "from docplex.cp.model import *"
   ]
  },
  {
   "cell_type": "code",
   "execution_count": 5,
   "id": "8a9e786a",
   "metadata": {},
   "outputs": [],
   "source": [
    "model=CpoModel()"
   ]
  },
  {
   "cell_type": "code",
   "execution_count": 6,
   "id": "8c4a249e",
   "metadata": {},
   "outputs": [],
   "source": [
    "import pandas as pd"
   ]
  },
  {
   "cell_type": "code",
   "execution_count": 12,
   "id": "8e8b7daf",
   "metadata": {},
   "outputs": [
    {
     "name": "stdout",
     "output_type": "stream",
     "text": [
      "Enter the course you would like to take CS100\n",
      "Enter the course you would like to take CS115\n",
      "Enter the course you would like to take EXOT\n",
      "Enter the course you would like to take EXIT\n"
     ]
    }
   ],
   "source": [
    "classes_to_take=[]\n",
    "val=\"class\"\n",
    "val=input(\"Enter the course you would like to take \")\n",
    "while val.lower()!=\"exit\":\n",
    "    classes_to_take.append(val)\n",
    "    val=input(\"Enter the course you would like to take \")\n",
    "    "
   ]
  },
  {
   "cell_type": "code",
   "execution_count": 13,
   "id": "ebcfb64c",
   "metadata": {},
   "outputs": [
    {
     "data": {
      "text/plain": [
       "['CS100', 'CS115', 'EXOT']"
      ]
     },
     "execution_count": 13,
     "metadata": {},
     "output_type": "execute_result"
    }
   ],
   "source": [
    "classes_to_take"
   ]
  },
  {
   "cell_type": "code",
   "execution_count": null,
   "id": "b90a43bc",
   "metadata": {},
   "outputs": [],
   "source": [
    "#constraint: for classes in classes_to_take, the value must be 1\n"
   ]
  }
 ],
 "metadata": {
  "kernelspec": {
   "display_name": "Python 3",
   "language": "python",
   "name": "python3"
  },
  "language_info": {
   "codemirror_mode": {
    "name": "ipython",
    "version": 3
   },
   "file_extension": ".py",
   "mimetype": "text/x-python",
   "name": "python",
   "nbconvert_exporter": "python",
   "pygments_lexer": "ipython3",
   "version": "3.9.4"
  }
 },
 "nbformat": 4,
 "nbformat_minor": 5
}

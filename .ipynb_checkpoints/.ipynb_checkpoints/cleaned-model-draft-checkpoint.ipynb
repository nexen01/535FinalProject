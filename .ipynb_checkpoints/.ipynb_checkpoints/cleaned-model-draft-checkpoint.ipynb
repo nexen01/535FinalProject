{
 "cells": [
  {
   "cell_type": "code",
   "execution_count": 1,
   "id": "cffa46c7",
   "metadata": {},
   "outputs": [
    {
     "name": "stdout",
     "output_type": "stream",
     "text": [
      "Requirement already satisfied: cplex in /Users/alishakhan/opt/miniconda3/envs/alishadev/lib/python3.9/site-packages (22.1.0.0)\n",
      "Requirement already satisfied: docplex in /Users/alishakhan/opt/miniconda3/envs/alishadev/lib/python3.9/site-packages (2.23.222)\n",
      "Requirement already satisfied: six in /Users/alishakhan/opt/miniconda3/envs/alishadev/lib/python3.9/site-packages (from docplex) (1.15.0)\n"
     ]
    }
   ],
   "source": [
    "!pip install cplex\n",
    "!pip install docplex\n",
    "import sys\n",
    "from docplex.cp.model import *\n",
    "import pandas as pd\n",
    "import random"
   ]
  },
  {
   "cell_type": "code",
   "execution_count": 2,
   "id": "80dc16d3",
   "metadata": {},
   "outputs": [],
   "source": [
    "#dataframe of actually every course at IIT fall 2022\n",
    "df = pd.read_csv(\"CourseStatusReport--2022-04-16.csv\")\n",
    "df = df.drop(columns=[\"Status\", \"Cross List Code\", \"College\", \"Department\", \"Schedule Type\", \"Max Enrollment\", \"Current Enrollment\", \"Enrollment Available\", \"Waitlist Count\", \"Campus\", \"Location\", \"Seating\", \"Dates\"])"
   ]
  },
  {
   "cell_type": "code",
   "execution_count": 3,
   "id": "1d0c209b",
   "metadata": {},
   "outputs": [],
   "source": [
    "random.seed(2022)\n",
    "df[\"Course Quality\"]=[random.randrange(5) for i in range(len(df))]\n",
    "df[\"Professor Difficulty\"]=[random.randrange(5) for i in range(len(df))]"
   ]
  },
  {
   "cell_type": "code",
   "execution_count": 4,
   "id": "5963b790",
   "metadata": {},
   "outputs": [],
   "source": [
    "df[\"ID\"] = range(len(df))"
   ]
  },
  {
   "cell_type": "code",
   "execution_count": 5,
   "id": "82cfaf2f",
   "metadata": {},
   "outputs": [],
   "source": [
    "model=CpoModel()"
   ]
  },
  {
   "cell_type": "code",
   "execution_count": 6,
   "id": "28ab66d7",
   "metadata": {},
   "outputs": [],
   "source": [
    "#creating binary vars for each class\n",
    "classVariables=[]\n",
    "for index, row in df.iterrows():\n",
    "    classVariables.append(model.integer_var(min=0, max=1, name=\"id\"+str(row['ID'])))    \n",
    "    #print(\"crn\"+str(row['CRN']))\n",
    "df['Vars']=classVariables"
   ]
  },
  {
   "cell_type": "code",
   "execution_count": 7,
   "id": "ea06ebf0",
   "metadata": {},
   "outputs": [],
   "source": [
    "#Course sections constraint\n",
    "#Make a dictionary. Keys: Course subject course number touple. Values: variables\n",
    "sections2 = {}\n",
    "for idx, x in enumerate(df[\"Course Code\"]): #List through all Course Codes. Consider the place before the hyphen on \"Course Code\"\n",
    "    #print(x.split(\"-\")[0])\n",
    "    x = x.split(\"-\")[0]\n",
    "    if(x not in sections2):\n",
    "        sections2[x] = [classVariables[idx]]\n",
    "    else:\n",
    "        sections2[x].append(classVariables[idx])\n",
    "#For each key in the dictionary, add a constraint\n",
    "# for coursecode in sections2:\n",
    "#     #For each constraint: the sum of all CRN's is equal to 1\n",
    "#     allsectionssum = model.sum(1*(sections2[coursecode][i]) for i in range(len(sections2[coursecode])))\n",
    "#     model.add_constraint(allsectionssum <= 1)\n",
    "#     #print(allsectionssum)"
   ]
  },
  {
   "cell_type": "code",
   "execution_count": 8,
   "id": "0cace22a",
   "metadata": {},
   "outputs": [],
   "source": [
    "#Course time slot constraints\n",
    "#Make a dictionary. Keys: Course time slot. Values: ID's\n",
    "timeslots = {}\n",
    "for idx, x in enumerate(df[\"Time\"]): #List through all Time slots\"\n",
    "    if((type(df[\"Days\"][idx]))!=float):\n",
    "        for char in (df[\"Days\"][idx]):\n",
    "            timeday = char+x\n",
    "            if(timeday not in timeslots):\n",
    "                timeslots[timeday] = [classVariables[idx]]\n",
    "            else:\n",
    "                timeslots[timeday].append(classVariables[idx])\n",
    "#For each key in the dictionary, add a constraint\n",
    "for timeslot in timeslots:\n",
    "    #For each constraint: the sum of all CRN's is equal to 1\n",
    "    alltimeslotssum = model.sum(1*(timeslots[timeslot][i]) for i in range(len(timeslots[timeslot])))\n",
    "    model.add_constraint(alltimeslotssum <= 1)\n"
   ]
  },
  {
   "cell_type": "code",
   "execution_count": 9,
   "id": "12d872c9",
   "metadata": {},
   "outputs": [],
   "source": [
    "# #Credit count: The sum of the credit count for all taken sections is less that 18 and bigger than 12\n",
    "# creditCount = [0]*len(df)\n",
    "# for i in range(len(df)):\n",
    "#     creditCount[i]=df[\"Credits\"][i]\n",
    "# creditCount[:5]"
   ]
  },
  {
   "cell_type": "code",
   "execution_count": 10,
   "id": "809000b4",
   "metadata": {},
   "outputs": [
    {
     "name": "stdout",
     "output_type": "stream",
     "text": [
      "Enter a min credits you need to take 12\n",
      "Enter a max credits you need to take 18\n"
     ]
    }
   ],
   "source": [
    "required_classes=[]\n",
    "mincredits = int(input(\"Enter a min credits you need to take \"))\n",
    "maxcredits = int(input(\"Enter a max credits you need to take \"))"
   ]
  },
  {
   "cell_type": "code",
   "execution_count": 11,
   "id": "09bdf37b",
   "metadata": {},
   "outputs": [],
   "source": [
    "allcreditcountsum = model.sum(df[\"Credits\"][i] * df[\"Vars\"][i] for i in range(len(df)))\n",
    "model.add_constraint(allcreditcountsum <= maxcredits)\n",
    "model.add_constraint(allcreditcountsum >= mincredits)"
   ]
  },
  {
   "cell_type": "code",
   "execution_count": 12,
   "id": "568598b1",
   "metadata": {},
   "outputs": [],
   "source": [
    "#observe that constraints were added\n",
    "#model.print_information()"
   ]
  },
  {
   "cell_type": "code",
   "execution_count": 13,
   "id": "047caf14",
   "metadata": {},
   "outputs": [
    {
     "name": "stdout",
     "output_type": "stream",
     "text": [
      "Enter a course you need to take CS 100\n",
      "Enter another course you need to take. \n",
      "Type \"Exit\" to stop adding courses CS 201\n",
      "Enter another course you need to take. \n",
      "Type \"Exit\" to stop adding courses EXIT\n"
     ]
    }
   ],
   "source": [
    "required_classes=[]\n",
    "val=\"class\"\n",
    "val=input(\"Enter a course you need to take \")\n",
    "while val.lower()!=\"exit\":\n",
    "    required_classes.append(val)\n",
    "    val=input(\"Enter another course you need to take. \\nType \\\"Exit\\\" to stop adding courses \")"
   ]
  },
  {
   "cell_type": "code",
   "execution_count": 14,
   "id": "08b325d2",
   "metadata": {},
   "outputs": [
    {
     "name": "stdout",
     "output_type": "stream",
     "text": [
      "Enter a course you want to take CS 350\n",
      "Enter another course you want to take. \n",
      "Type \"Exit\" to stop adding courses MATH 151\n",
      "Enter another course you want to take. \n",
      "Type \"Exit\" to stop adding courses CHEM 124\n",
      "Enter another course you want to take. \n",
      "Type \"Exit\" to stop adding courses PHYS 123\n",
      "Enter another course you want to take. \n",
      "Type \"Exit\" to stop adding courses PSYC 303\n",
      "Enter another course you want to take. \n",
      "Type \"Exit\" to stop adding courses EXIT\n"
     ]
    }
   ],
   "source": [
    "requested_classes=[]\n",
    "val=\"class\"\n",
    "val=input(\"Enter a course you want to take \")\n",
    "while val.lower()!=\"exit\":\n",
    "    requested_classes.append(val)\n",
    "    val=input(\"Enter another course you want to take. \\nType \\\"Exit\\\" to stop adding courses \")"
   ]
  },
  {
   "cell_type": "code",
   "execution_count": 15,
   "id": "91603565",
   "metadata": {},
   "outputs": [],
   "source": [
    "#Seeing if coursecode keys are strings\n",
    "#for coursecode in sections2:\n",
    " #   print(coursecode, \" \", type(coursecode))"
   ]
  },
  {
   "cell_type": "code",
   "execution_count": 16,
   "id": "bf407a18",
   "metadata": {},
   "outputs": [],
   "source": [
    "#Adding constraints for what courses to take, and identical course conflict avoidance\n",
    "for coursecode in sections2:\n",
    "    #For each constraint: the sum of all CRN's is equal to 1\n",
    "    allsectionssum = model.sum(1*(sections2[coursecode][i]) for i in range(len(sections2[coursecode])))\n",
    "    if(coursecode in required_classes):\n",
    "        model.add_constraint(allsectionssum == 1)\n",
    "    elif(coursecode in requested_classes):\n",
    "        model.add_constraint(allsectionssum <= 1)\n",
    "    else:\n",
    "        model.add_constraint(allsectionssum == 0)"
   ]
  },
  {
   "cell_type": "code",
   "execution_count": 17,
   "id": "711afe85",
   "metadata": {},
   "outputs": [
    {
     "name": "stdout",
     "output_type": "stream",
     "text": [
      "Hypothetically, there's a 1/5 quality professor at a non-8:35 time slot. \n",
      "How good does the prof have to be (1-5) to justify moving to 8:35? 2\n",
      "For every 1 point increase in difficulty, how much better should a prof be to justify it? 1\n"
     ]
    }
   ],
   "source": [
    "b = int(input(\"\"\"Hypothetically, there's a 1/5 quality professor at a non-8:35 time slot. \n",
    "How good does the prof have to be (1-5) to justify moving to 8:35? \"\"\"))\n",
    "a = int(input(\"\"\"For every 1 point increase in difficulty, how much better should a prof be to justify it? \"\"\"))"
   ]
  },
  {
   "cell_type": "code",
   "execution_count": 18,
   "id": "dbfca2ef",
   "metadata": {},
   "outputs": [],
   "source": [
    "#creating minimization function (course quality and prof difficulty)\n",
    "min_func=0\n",
    "for index, row in df.iterrows():\n",
    "    min_func+=((a*(5-row['Course Quality']))+row['Professor Difficulty'])*row['Vars']"
   ]
  },
  {
   "cell_type": "code",
   "execution_count": 19,
   "id": "135b24dd",
   "metadata": {},
   "outputs": [],
   "source": [
    "earlyClassPenalty = a*(b-1)\n",
    "for index, row in df.iterrows():\n",
    "    if(row[\"Time\"]==\"0835 - 0950\"):\n",
    "        min_func += (earlyClassPenalty * row['Vars'])"
   ]
  },
  {
   "cell_type": "code",
   "execution_count": 20,
   "id": "886578cd",
   "metadata": {},
   "outputs": [],
   "source": [
    "min_func=model.minimize(min_func)\n",
    "model.add(min_func)"
   ]
  },
  {
   "cell_type": "code",
   "execution_count": 21,
   "id": "8ef729af",
   "metadata": {},
   "outputs": [],
   "source": [
    "#observe that constraints were added\n",
    "#model.print_information()"
   ]
  },
  {
   "cell_type": "code",
   "execution_count": 22,
   "id": "8191a65d",
   "metadata": {},
   "outputs": [
    {
     "name": "stdout",
     "output_type": "stream",
     "text": [
      " ! --------------------------------------------------- CP Optimizer 22.1.0.0 --\n",
      " ! Minimization problem - 2619 variables, 1114 constraints\n",
      " ! Presolve      : 40 extractables eliminated\n",
      " ! Initial process time : 0.07s (0.07s extraction + 0.00s propagation)\n",
      " !  . Log search space  : 70.0 (before), 70.0 (after)\n",
      " !  . Memory usage      : 3.9 MB (before), 3.9 MB (after)\n",
      " ! Using parallel search with 8 workers.\n",
      " ! ----------------------------------------------------------------------------\n",
      " !          Best Branches  Non-fixed    W       Branch decision\n",
      "                        0         70                 -\n",
      " + New bound is 0\n",
      "                        0         70    1   F        -\n",
      " + New bound is 4\n",
      "                       32         13    1   F     0 != id741\n",
      " + New bound is 5\n",
      " *            25       94  0.15s        1      (gap is 80.00%)\n",
      " *            22      211  0.15s        1      (gap is 77.27%)\n",
      " *            20      220  0.15s        1      (gap is 75.00%)\n",
      " *            18      438  0.15s        1      (gap is 72.22%)\n",
      " *            17      572  0.15s        1      (gap is 70.59%)\n",
      " *            16      601  0.15s        1      (gap is 68.75%)\n",
      " *            14      851  0.15s        1      (gap is 64.29%)\n",
      "              14     1000          1    1         0  = id2285\n",
      "              14     1000          1    2         0  = id2274\n",
      " *            13      494  0.15s        3      (gap is 61.54%)\n",
      " *            12      883  0.15s        3      (gap is 58.33%)\n",
      " *            10      920  0.15s        3      (gap is 50.00%)\n",
      "              10     1000          1    3   F     0 != id2280\n",
      "              10     1000          1    4         1  = id733\n",
      "              10     1000          1    5         1 != id2272\n",
      "              10     1000          1    6   F     0 != id592\n",
      "              10     1000          1    7         0 != id746\n",
      " ! Time = 0.16s, Average fail depth = 35, Memory usage = 66.9 MB\n",
      " ! Current bound is 5 (gap is 50.00%)\n",
      " !          Best Branches  Non-fixed    W       Branch decision\n",
      "              10     1000          4    8         0  = id1764\n",
      " *             9     1341  0.19s        1      (gap is 44.44%)\n",
      "               9     1497          2    1            -\n",
      " + New bound is 9 (gap is 0.00%)\n",
      " ! ----------------------------------------------------------------------------\n",
      " ! Search completed, 11 solutions found.\n",
      " ! Best objective         : 9 (optimal - effective tol. is 0)\n",
      " ! Best bound             : 9\n",
      " ! ----------------------------------------------------------------------------\n",
      " ! Number of branches     : 14339\n",
      " ! Number of fails        : 5965\n",
      " ! Total memory usage     : 46.3 MB (45.7 MB CP Optimizer + 0.6 MB Concert)\n",
      " ! Time spent in solve    : 0.20s (0.13s engine + 0.07s extraction)\n",
      " ! Search speed (br. / s) : 119491.5\n",
      " ! ----------------------------------------------------------------------------\n"
     ]
    }
   ],
   "source": [
    "#solving model\n",
    "sol2=model.solve()\n",
    "#sol2.print_solution()"
   ]
  },
  {
   "cell_type": "code",
   "execution_count": 23,
   "id": "54571e0e",
   "metadata": {},
   "outputs": [
    {
     "name": "stdout",
     "output_type": "stream",
     "text": [
      "Here's your \"optimal\" schedule: \n",
      "CHEM 124-03 on TR at 1125 - 1240\n",
      "CS 100-L05 on T at 1350 - 1505\n",
      "CS 201-03 on nan at  - \n",
      "MATH 151-05 on MWF at 1125 - 1240\n"
     ]
    }
   ],
   "source": [
    "print(\"Here's your \\\"optimal\\\" schedule: \")\n",
    "for index, row in df.iterrows():\n",
    "    #print(sol2.get_value(\"id\"+str(index)))\n",
    "    if(sol2.get_value(\"id\"+str(index))!=0):\n",
    "        print(df[\"Course Code\"][index], \"on\", df[\"Days\"][index],\"at\", df[\"Time\"][index])"
   ]
  },
  {
   "cell_type": "code",
   "execution_count": 31,
   "id": "03d99d04",
   "metadata": {},
   "outputs": [
    {
     "name": "stdout",
     "output_type": "stream",
     "text": [
      " ! --------------------------------------------------- CP Optimizer 22.1.0.0 --\n",
      " ! Minimization problem - 2619 variables, 1114 constraints\n",
      " ! Presolve      : 40 extractables eliminated\n",
      " ! Workers              = 1\n",
      " ! SearchType           = DepthFirst\n",
      " ! Initial process time : 0.04s (0.04s extraction + 0.00s propagation)\n",
      " !  . Log search space  : 70.0 (before), 70.0 (after)\n",
      " !  . Memory usage      : 3.9 MB (before), 3.9 MB (after)\n",
      " ! Using sequential search.\n",
      " ! ----------------------------------------------------------------------------\n",
      " !          Best Branches  Non-fixed            Branch decision\n",
      " *            16      271  0.04s          \n",
      "\n",
      "Here is a feasible solution\n",
      "CHEM 124-03 on TR at 1125 - 1240\n",
      "CS 100-L04 on M at 1825 - 1940\n",
      "CS 201-02 on TR at 1350 - 1505\n",
      "MATH 151-01 on MWF at 0835 - 0950\n",
      " *            15      276  0.05s          \n",
      "\n",
      "Here is a feasible solution\n",
      "CHEM 124-03 on TR at 1125 - 1240\n",
      "CS 100-L04 on M at 1825 - 1940\n",
      "CS 201-03 on nan at  - \n",
      "MATH 151-01 on MWF at 0835 - 0950\n",
      " *            11      279  0.05s          \n",
      "\n",
      "Here is a feasible solution\n",
      "CHEM 124-03 on TR at 1125 - 1240\n",
      "CS 100-L12 on W at 1825 - 1940\n",
      "CS 201-03 on nan at  - \n",
      "MATH 151-01 on MWF at 0835 - 0950\n",
      " *            10      292  0.05s          \n",
      "\n",
      "Here is a feasible solution\n",
      "CHEM 124-03 on TR at 1125 - 1240\n",
      "CS 100-L12 on W at 1825 - 1940\n",
      "CS 201-03 on nan at  - \n",
      "MATH 151-05 on MWF at 1125 - 1240\n",
      "              10     1000          1        F     0 != id771\n",
      " *             9     1140  0.06s          \n",
      "\n",
      "Here is a feasible solution\n",
      "CHEM 124-01 on MW at 1000 - 1115\n",
      "CS 100-L05 on T at 1350 - 1505\n",
      "CS 201-03 on nan at  - \n",
      "MATH 151-04 on MWF at 1350 - 1505\n",
      " ! ----------------------------------------------------------------------------\n",
      " ! Search completed, 5 solutions found.\n",
      " ! Best objective         : 9 (optimal - effective tol. is 0)\n",
      " ! Best bound             : -Infinity (no gap)\n",
      " ! ----------------------------------------------------------------------------\n",
      " ! Number of branches     : 1246\n",
      " ! Number of fails        : 619\n",
      " ! Total memory usage     : 12.8 MB (12.2 MB CP Optimizer + 0.6 MB Concert)\n",
      " ! Time spent in solve    : 0.06s (0.02s engine + 0.04s extraction)\n",
      " ! Search speed (br. / s) : 62300.1\n",
      " ! ----------------------------------------------------------------------------\n"
     ]
    }
   ],
   "source": [
    "lsols=model.start_search(SearchType='DepthFirst', Workers=1)\n",
    "index\n",
    "for sol in lsols:\n",
    "    #sol.write()\n",
    "    print(\"\\nHere is a feasible solution\")\n",
    "    for index, row in df.iterrows():\n",
    "        if(sol.get_value(\"id\"+str(index))!=0):\n",
    "            print(df[\"Course Code\"][index], \"on\", df[\"Days\"][index],\"at\", df[\"Time\"][index])"
   ]
  },
  {
   "cell_type": "code",
   "execution_count": null,
   "id": "bef5e69e",
   "metadata": {},
   "outputs": [],
   "source": []
  }
 ],
 "metadata": {
  "kernelspec": {
   "display_name": "Python 3",
   "language": "python",
   "name": "python3"
  },
  "language_info": {
   "codemirror_mode": {
    "name": "ipython",
    "version": 3
   },
   "file_extension": ".py",
   "mimetype": "text/x-python",
   "name": "python",
   "nbconvert_exporter": "python",
   "pygments_lexer": "ipython3",
   "version": "3.9.4"
  }
 },
 "nbformat": 4,
 "nbformat_minor": 5
}

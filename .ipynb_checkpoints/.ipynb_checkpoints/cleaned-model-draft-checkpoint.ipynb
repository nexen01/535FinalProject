{
 "cells": [
  {
   "cell_type": "code",
   "execution_count": 6,
   "id": "cffa46c7",
   "metadata": {},
   "outputs": [
    {
     "name": "stdout",
     "output_type": "stream",
     "text": [
      "Requirement already satisfied: cplex in c:\\users\\nexen\\appdata\\local\\programs\\python\\python310\\lib\\site-packages (22.1.0.0)\n",
      "Requirement already satisfied: docplex in c:\\users\\nexen\\appdata\\local\\programs\\python\\python310\\lib\\site-packages (2.23.222)\n",
      "Requirement already satisfied: six in c:\\users\\nexen\\appdata\\local\\programs\\python\\python310\\lib\\site-packages (from docplex) (1.16.0)\n"
     ]
    }
   ],
   "source": [
    "!pip install cplex\n",
    "!pip install docplex\n",
    "import sys\n",
    "from docplex.cp.model import *\n",
    "import pandas as pd\n",
    "import random"
   ]
  },
  {
   "cell_type": "code",
   "execution_count": 54,
   "id": "80dc16d3",
   "metadata": {},
   "outputs": [
    {
     "data": {
      "text/html": [
       "<div>\n",
       "<style scoped>\n",
       "    .dataframe tbody tr th:only-of-type {\n",
       "        vertical-align: middle;\n",
       "    }\n",
       "\n",
       "    .dataframe tbody tr th {\n",
       "        vertical-align: top;\n",
       "    }\n",
       "\n",
       "    .dataframe thead th {\n",
       "        text-align: right;\n",
       "    }\n",
       "</style>\n",
       "<table border=\"1\" class=\"dataframe\">\n",
       "  <thead>\n",
       "    <tr style=\"text-align: right;\">\n",
       "      <th></th>\n",
       "      <th>CRN</th>\n",
       "      <th>Course Code</th>\n",
       "      <th>Course Subject</th>\n",
       "      <th>Course Number</th>\n",
       "      <th>Course Title</th>\n",
       "      <th>Credits</th>\n",
       "      <th>Days</th>\n",
       "      <th>Time</th>\n",
       "      <th>Primary Instructor</th>\n",
       "      <th>Secondary Instructors</th>\n",
       "    </tr>\n",
       "  </thead>\n",
       "  <tbody>\n",
       "    <tr>\n",
       "      <th>0</th>\n",
       "      <td>11875</td>\n",
       "      <td>AAH 119-01</td>\n",
       "      <td>AAH</td>\n",
       "      <td>119</td>\n",
       "      <td>Hist of World Architecture I</td>\n",
       "      <td>3.0</td>\n",
       "      <td>MW</td>\n",
       "      <td>1125 - 1215</td>\n",
       "      <td>Hazard, Erin</td>\n",
       "      <td>NaN</td>\n",
       "    </tr>\n",
       "    <tr>\n",
       "      <th>1</th>\n",
       "      <td>11876</td>\n",
       "      <td>AAH 119-D01</td>\n",
       "      <td>AAH</td>\n",
       "      <td>119</td>\n",
       "      <td>Discussion</td>\n",
       "      <td>0.0</td>\n",
       "      <td>M</td>\n",
       "      <td>0900 - 0950</td>\n",
       "      <td>NaN</td>\n",
       "      <td>NaN</td>\n",
       "    </tr>\n",
       "    <tr>\n",
       "      <th>2</th>\n",
       "      <td>11877</td>\n",
       "      <td>AAH 119-D02</td>\n",
       "      <td>AAH</td>\n",
       "      <td>119</td>\n",
       "      <td>Discussion</td>\n",
       "      <td>0.0</td>\n",
       "      <td>M</td>\n",
       "      <td>1000 - 1050</td>\n",
       "      <td>NaN</td>\n",
       "      <td>NaN</td>\n",
       "    </tr>\n",
       "    <tr>\n",
       "      <th>3</th>\n",
       "      <td>11878</td>\n",
       "      <td>AAH 119-D03</td>\n",
       "      <td>AAH</td>\n",
       "      <td>119</td>\n",
       "      <td>Discussion</td>\n",
       "      <td>0.0</td>\n",
       "      <td>M</td>\n",
       "      <td>1000 - 1050</td>\n",
       "      <td>NaN</td>\n",
       "      <td>NaN</td>\n",
       "    </tr>\n",
       "    <tr>\n",
       "      <th>4</th>\n",
       "      <td>11879</td>\n",
       "      <td>AAH 119-D04</td>\n",
       "      <td>AAH</td>\n",
       "      <td>119</td>\n",
       "      <td>Discussion</td>\n",
       "      <td>0.0</td>\n",
       "      <td>W</td>\n",
       "      <td>0900 - 0950</td>\n",
       "      <td>NaN</td>\n",
       "      <td>NaN</td>\n",
       "    </tr>\n",
       "  </tbody>\n",
       "</table>\n",
       "</div>"
      ],
      "text/plain": [
       "     CRN  Course Code Course Subject  Course Number  \\\n",
       "0  11875   AAH 119-01            AAH            119   \n",
       "1  11876  AAH 119-D01            AAH            119   \n",
       "2  11877  AAH 119-D02            AAH            119   \n",
       "3  11878  AAH 119-D03            AAH            119   \n",
       "4  11879  AAH 119-D04            AAH            119   \n",
       "\n",
       "                   Course Title  Credits Days         Time Primary Instructor  \\\n",
       "0  Hist of World Architecture I      3.0   MW  1125 - 1215       Hazard, Erin   \n",
       "1                    Discussion      0.0    M  0900 - 0950                NaN   \n",
       "2                    Discussion      0.0    M  1000 - 1050                NaN   \n",
       "3                    Discussion      0.0    M  1000 - 1050                NaN   \n",
       "4                    Discussion      0.0    W  0900 - 0950                NaN   \n",
       "\n",
       "  Secondary Instructors  \n",
       "0                   NaN  \n",
       "1                   NaN  \n",
       "2                   NaN  \n",
       "3                   NaN  \n",
       "4                   NaN  "
      ]
     },
     "execution_count": 54,
     "metadata": {},
     "output_type": "execute_result"
    }
   ],
   "source": [
    "#dataframe of actually every course at IIT fall 2022\n",
    "df = pd.read_csv(\"CourseStatusReport--2022-04-16.csv\")\n",
    "df = df.drop(columns=[\"Status\", \"Cross List Code\", \"College\", \"Department\", \"Schedule Type\", \"Max Enrollment\", \"Current Enrollment\", \"Enrollment Available\", \"Waitlist Count\", \"Campus\", \"Location\", \"Seating\", \"Dates\"])\n",
    "df.head()"
   ]
  },
  {
   "cell_type": "code",
   "execution_count": 55,
   "id": "1d0c209b",
   "metadata": {},
   "outputs": [],
   "source": [
    "random.seed(2022)\n",
    "df[\"Course Quality\"]=[random.randrange(5) for i in range(len(df))]\n",
    "df[\"Professor Difficulty\"]=[random.randrange(5) for i in range(len(df))]"
   ]
  },
  {
   "cell_type": "code",
   "execution_count": 56,
   "id": "5963b790",
   "metadata": {},
   "outputs": [],
   "source": [
    "df[\"ID\"] = range(len(df))"
   ]
  },
  {
   "cell_type": "code",
   "execution_count": 57,
   "id": "82cfaf2f",
   "metadata": {},
   "outputs": [],
   "source": [
    "model=CpoModel()"
   ]
  },
  {
   "cell_type": "code",
   "execution_count": 58,
   "id": "28ab66d7",
   "metadata": {},
   "outputs": [],
   "source": [
    "#creating binary vars for each class\n",
    "classVariables=[]\n",
    "for index, row in df.iterrows():\n",
    "    classVariables.append(model.integer_var(min=0, max=1, name=\"id\"+str(row['ID'])))    \n",
    "    #print(\"crn\"+str(row['CRN']))\n",
    "df['Vars']=classVariables"
   ]
  },
  {
   "cell_type": "code",
   "execution_count": 59,
   "id": "ea06ebf0",
   "metadata": {},
   "outputs": [],
   "source": [
    "#Course sections constraint\n",
    "#Make a dictionary. Keys: Course subject course number touple. Values: variables\n",
    "sections2 = {}\n",
    "for idx, x in enumerate(df[\"Course Code\"]): #List through all Course Codes. Consider the place before the hyphen on \"Course Code\"\n",
    "    #print(x.split(\"-\")[0])\n",
    "    x = x.split(\"-\")[0]\n",
    "    if(x not in sections2):\n",
    "        sections2[x] = [classVariables[idx]]\n",
    "    else:\n",
    "        sections2[x].append(classVariables[idx])\n",
    "#For each key in the dictionary, add a constraint\n",
    "# for coursecode in sections2:\n",
    "#     #For each constraint: the sum of all CRN's is equal to 1\n",
    "#     allsectionssum = model.sum(1*(sections2[coursecode][i]) for i in range(len(sections2[coursecode])))\n",
    "#     model.add_constraint(allsectionssum <= 1)\n",
    "#     #print(allsectionssum)"
   ]
  },
  {
   "cell_type": "code",
   "execution_count": 60,
   "id": "0cace22a",
   "metadata": {},
   "outputs": [],
   "source": [
    "#Course time slot constraints\n",
    "#Make a dictionary. Keys: Course time slot. Values: ID's\n",
    "timeslots = {}\n",
    "for idx, x in enumerate(df[\"Time\"]): #List through all Time slots\"\n",
    "    if((type(df[\"Days\"][idx]))!=float):\n",
    "        for char in (df[\"Days\"][idx]):\n",
    "            timeday = char+x\n",
    "            if(timeday not in timeslots):\n",
    "                timeslots[timeday] = [classVariables[idx]]\n",
    "            else:\n",
    "                timeslots[timeday].append(classVariables[idx])\n",
    "#For each key in the dictionary, add a constraint\n",
    "for timeslot in timeslots:\n",
    "    #For each constraint: the sum of all CRN's is equal to 1\n",
    "    alltimeslotssum = model.sum(1*(timeslots[timeslot][i]) for i in range(len(timeslots[timeslot])))\n",
    "    model.add_constraint(alltimeslotssum <= 1)\n"
   ]
  },
  {
   "cell_type": "code",
   "execution_count": 61,
   "id": "12d872c9",
   "metadata": {},
   "outputs": [],
   "source": [
    "# #Credit count: The sum of the credit count for all taken sections is less that 18 and bigger than 12\n",
    "# creditCount = [0]*len(df)\n",
    "# for i in range(len(df)):\n",
    "#     creditCount[i]=df[\"Credits\"][i]\n",
    "# creditCount[:5]"
   ]
  },
  {
   "cell_type": "code",
   "execution_count": 62,
   "id": "809000b4",
   "metadata": {},
   "outputs": [
    {
     "name": "stdout",
     "output_type": "stream",
     "text": [
      "Enter a min credits you need to take 12\n",
      "Enter a max credits you need to take 18\n"
     ]
    }
   ],
   "source": [
    "required_classes=[]\n",
    "mincredits = int(input(\"Enter a min credits you need to take \"))\n",
    "maxcredits = int(input(\"Enter a max credits you need to take \"))"
   ]
  },
  {
   "cell_type": "code",
   "execution_count": 63,
   "id": "09bdf37b",
   "metadata": {},
   "outputs": [],
   "source": [
    "allcreditcountsum = model.sum(df[\"Credits\"][i] * df[\"Vars\"][i] for i in range(len(df)))\n",
    "model.add_constraint(allcreditcountsum <= maxcredits)\n",
    "model.add_constraint(allcreditcountsum >= mincredits)"
   ]
  },
  {
   "cell_type": "code",
   "execution_count": 64,
   "id": "568598b1",
   "metadata": {},
   "outputs": [],
   "source": [
    "#observe that constraints were added\n",
    "#model.print_information()"
   ]
  },
  {
   "cell_type": "code",
   "execution_count": 65,
   "id": "047caf14",
   "metadata": {},
   "outputs": [
    {
     "name": "stdout",
     "output_type": "stream",
     "text": [
      "Enter a course you need to take CS 100\n",
      "Enter another course you need to take. \n",
      "Type \"Exit\" to stop adding courses CS 201\n",
      "Enter another course you need to take. \n",
      "Type \"Exit\" to stop adding courses exit\n"
     ]
    }
   ],
   "source": [
    "required_classes=[]\n",
    "val=\"class\"\n",
    "val=input(\"Enter a course you need to take \")\n",
    "while val.lower()!=\"exit\":\n",
    "    required_classes.append(val)\n",
    "    val=input(\"Enter another course you need to take. \\nType \\\"Exit\\\" to stop adding courses \")"
   ]
  },
  {
   "cell_type": "code",
   "execution_count": 66,
   "id": "08b325d2",
   "metadata": {},
   "outputs": [
    {
     "name": "stdout",
     "output_type": "stream",
     "text": [
      "Enter a course you want to take CS 350\n",
      "Enter another course you want to take. \n",
      "Type \"Exit\" to stop adding courses MATH 151\n",
      "Enter another course you want to take. \n",
      "Type \"Exit\" to stop adding courses CHEM 124\n",
      "Enter another course you want to take. \n",
      "Type \"Exit\" to stop adding courses PHYS 123\n",
      "Enter another course you want to take. \n",
      "Type \"Exit\" to stop adding courses PSYC 303\n",
      "Enter another course you want to take. \n",
      "Type \"Exit\" to stop adding courses exit\n"
     ]
    }
   ],
   "source": [
    "requested_classes=[]\n",
    "val=\"class\"\n",
    "val=input(\"Enter a course you want to take \")\n",
    "while val.lower()!=\"exit\":\n",
    "    requested_classes.append(val)\n",
    "    val=input(\"Enter another course you want to take. \\nType \\\"Exit\\\" to stop adding courses \")"
   ]
  },
  {
   "cell_type": "code",
   "execution_count": 67,
   "id": "91603565",
   "metadata": {},
   "outputs": [],
   "source": [
    "#Seeing if coursecode keys are strings\n",
    "#for coursecode in sections2:\n",
    " #   print(coursecode, \" \", type(coursecode))"
   ]
  },
  {
   "cell_type": "code",
   "execution_count": 68,
   "id": "bf407a18",
   "metadata": {},
   "outputs": [],
   "source": [
    "#Adding constraints for what courses to take, and identical course conflict avoidance\n",
    "for coursecode in sections2:\n",
    "    #For each constraint: the sum of all CRN's is equal to 1\n",
    "    allsectionssum = model.sum(1*(sections2[coursecode][i]) for i in range(len(sections2[coursecode])))\n",
    "    if(coursecode in required_classes):\n",
    "        model.add_constraint(allsectionssum == 1)\n",
    "    elif(coursecode in requested_classes):\n",
    "        model.add_constraint(allsectionssum <= 1)\n",
    "    else:\n",
    "        model.add_constraint(allsectionssum == 0)"
   ]
  },
  {
   "cell_type": "code",
   "execution_count": 69,
   "id": "711afe85",
   "metadata": {},
   "outputs": [
    {
     "name": "stdout",
     "output_type": "stream",
     "text": [
      "Hypothetically, there's a 1/5 quality professor at a non-8:35 time slot. \n",
      "How good does the prof have to be (1-5) to justify moving to 8:35? 2\n",
      "For every 1 point increase in difficulty, how much better should a prof be to justify it? 1\n"
     ]
    }
   ],
   "source": [
    "b = int(input(\"\"\"Hypothetically, there's a 1/5 quality professor at a non-8:35 time slot. \n",
    "How good does the prof have to be (1-5) to justify moving to 8:35? \"\"\"))\n",
    "a = int(input(\"\"\"For every 1 point increase in difficulty, how much better should a prof be to justify it? \"\"\"))"
   ]
  },
  {
   "cell_type": "code",
   "execution_count": 70,
   "id": "dbfca2ef",
   "metadata": {},
   "outputs": [
    {
     "data": {
      "text/plain": [
       "<docplex.cp.expression.CpoFunctionCall at 0x25ffde731c0>"
      ]
     },
     "execution_count": 70,
     "metadata": {},
     "output_type": "execute_result"
    }
   ],
   "source": [
    "#creating minimization function (course quality and prof difficulty)\n",
    "min_func=0\n",
    "for index, row in df.iterrows():\n",
    "    min_func+=((a*(5-row['Course Quality']))+row['Professor Difficulty'])*row['Vars']\n",
    "min_func"
   ]
  },
  {
   "cell_type": "code",
   "execution_count": 71,
   "id": "135b24dd",
   "metadata": {},
   "outputs": [],
   "source": [
    "earlyClassPenalty = a*(b-1)\n",
    "for index, row in df.iterrows():\n",
    "    if(row[\"Time\"]==\"0835 - 0950\"):\n",
    "        min_func += (earlyClassPenalty * row['Vars'])"
   ]
  },
  {
   "cell_type": "code",
   "execution_count": 72,
   "id": "886578cd",
   "metadata": {},
   "outputs": [],
   "source": [
    "min_func=model.minimize(min_func)\n",
    "model.add(min_func)"
   ]
  },
  {
   "cell_type": "code",
   "execution_count": 73,
   "id": "8ef729af",
   "metadata": {},
   "outputs": [],
   "source": [
    "#observe that constraints were added\n",
    "#model.print_information()"
   ]
  },
  {
   "cell_type": "code",
   "execution_count": 74,
   "id": "8191a65d",
   "metadata": {},
   "outputs": [
    {
     "name": "stdout",
     "output_type": "stream",
     "text": [
      " ! --------------------------------------------------- CP Optimizer 22.1.0.0 --\n",
      " ! Minimization problem - 2619 variables, 1114 constraints\n",
      " ! Presolve      : 40 extractables eliminated\n",
      " ! Initial process time : 0.04s (0.04s extraction + 0.00s propagation)\n",
      " !  . Log search space  : 70.0 (before), 70.0 (after)\n",
      " !  . Memory usage      : 3.9 MB (before), 3.9 MB (after)\n",
      " ! Using parallel search with 16 workers.\n",
      " ! ----------------------------------------------------------------------------\n",
      " !          Best Branches  Non-fixed    W       Branch decision\n",
      "                        0         70                 -\n",
      " + New bound is 0\n",
      "                        0         70    1   F        -\n",
      " + New bound is 4\n",
      "                       32         13    1   F     0 != id741\n",
      " + New bound is 5\n",
      " *            25       94  0.18s        1      (gap is 80.00%)\n",
      " *            22      211  0.18s        1      (gap is 77.27%)\n",
      " *            20      220  0.18s        1      (gap is 75.00%)\n",
      " *            18      438  0.18s        1      (gap is 72.22%)\n",
      " *            17      572  0.18s        1      (gap is 70.59%)\n",
      " *            16      601  0.18s        1      (gap is 68.75%)\n",
      " *            14      851  0.18s        1      (gap is 64.29%)\n",
      "              14     1000          1    1         0  = id2285\n",
      "              14     1000          1    2         0  = id2274\n",
      " *            13      494  0.18s        3      (gap is 61.54%)\n",
      " *            12      883  0.18s        3      (gap is 58.33%)\n",
      " *            10      920  0.18s        3      (gap is 50.00%)\n",
      "              10     1000          1    3   F     0 != id2280\n",
      "              10     1000          1    4         1  = id733\n",
      "              10     1000          1    5         1 != id2272\n",
      "              10     1000          1    6   F     0 != id592\n",
      "              10     1000          1    7         0 != id746\n",
      " ! Time = 0.19s, Average fail depth = 35, Memory usage = 86.6 MB\n",
      " ! Current bound is 5 (gap is 50.00%)\n",
      " !          Best Branches  Non-fixed    W       Branch decision\n",
      "              10     1000          4    8         0  = id1764\n",
      "              10     1000          1    9   F     0 != id1759\n",
      "              10     1000          1   10            -\n",
      "              10     1000          1   11         1  = id748\n",
      "              10     1000          1   12         1 != id591\n",
      "              10     1000          1   13   F     0 != id588\n",
      "              10     1000          1   14            -\n",
      "              10     1000          1   15         0 != id2284\n",
      "              10     1000          1   16   F     1  = id746\n",
      " *             9     1341  0.23s        1      (gap is 44.44%)\n",
      "               9     1497          2    1            -\n",
      " + New bound is 9 (gap is 0.00%)\n",
      " ! ----------------------------------------------------------------------------\n",
      " ! Search completed, 11 solutions found.\n",
      " ! Best objective         : 9 (optimal - effective tol. is 0)\n",
      " ! Best bound             : 9\n",
      " ! ----------------------------------------------------------------------------\n",
      " ! Number of branches     : 29322\n",
      " ! Number of fails        : 12112\n",
      " ! Total memory usage     : 80.2 MB (79.6 MB CP Optimizer + 0.6 MB Concert)\n",
      " ! Time spent in solve    : 0.24s (0.20s engine + 0.04s extraction)\n",
      " ! Search speed (br. / s) : 148090.9\n",
      " ! ----------------------------------------------------------------------------\n"
     ]
    }
   ],
   "source": [
    "#solving model\n",
    "sol2=model.solve()\n",
    "#sol2.print_solution()"
   ]
  },
  {
   "cell_type": "code",
   "execution_count": 80,
   "id": "54571e0e",
   "metadata": {},
   "outputs": [
    {
     "name": "stdout",
     "output_type": "stream",
     "text": [
      "Here's your \"optimal\" schedule: \n",
      "CHEM 124-03 on TR at 1125 - 1240\n",
      "CS 100-L05 on T at 1350 - 1505\n",
      "CS 201-03 on nan at  - \n",
      "MATH 151-05 on MWF at 1125 - 1240\n"
     ]
    }
   ],
   "source": [
    "print(\"Here's your \\\"optimal\\\" schedule: \")\n",
    "for index, row in df.iterrows():\n",
    "    #print(sol2.get_value(\"id\"+str(index)))\n",
    "    if(sol2.get_value(\"id\"+str(index))!=0):\n",
    "        print(df[\"Course Code\"][index], \"on\", df[\"Days\"][index],\"at\", df[\"Time\"][index])"
   ]
  },
  {
   "cell_type": "code",
   "execution_count": null,
   "id": "03d99d04",
   "metadata": {},
   "outputs": [],
   "source": []
  }
 ],
 "metadata": {
  "kernelspec": {
   "display_name": "Python 3 (ipykernel)",
   "language": "python",
   "name": "python3"
  },
  "language_info": {
   "codemirror_mode": {
    "name": "ipython",
    "version": 3
   },
   "file_extension": ".py",
   "mimetype": "text/x-python",
   "name": "python",
   "nbconvert_exporter": "python",
   "pygments_lexer": "ipython3",
   "version": "3.10.4"
  }
 },
 "nbformat": 4,
 "nbformat_minor": 5
}

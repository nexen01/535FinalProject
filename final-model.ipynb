{
 "cells": [
  {
   "cell_type": "markdown",
   "id": "505a5743",
   "metadata": {},
   "source": [
    "# MATH535 Model"
   ]
  },
  {
   "cell_type": "markdown",
   "id": "05e6824a",
   "metadata": {},
   "source": [
    "## Prerequisite packages "
   ]
  },
  {
   "cell_type": "code",
   "execution_count": 1,
   "id": "cffa46c7",
   "metadata": {},
   "outputs": [
    {
     "name": "stdout",
     "output_type": "stream",
     "text": [
      "Requirement already satisfied: cplex in /Users/alishakhan/opt/miniconda3/envs/alishadev/lib/python3.9/site-packages (22.1.0.0)\n",
      "Requirement already satisfied: docplex in /Users/alishakhan/opt/miniconda3/envs/alishadev/lib/python3.9/site-packages (2.23.222)\n",
      "Requirement already satisfied: six in /Users/alishakhan/opt/miniconda3/envs/alishadev/lib/python3.9/site-packages (from docplex) (1.15.0)\n"
     ]
    }
   ],
   "source": [
    "!pip install cplex\n",
    "!pip install docplex\n",
    "import sys\n",
    "from docplex.cp.model import *\n",
    "import pandas as pd\n",
    "import random"
   ]
  },
  {
   "cell_type": "markdown",
   "id": "ee8be92d",
   "metadata": {},
   "source": [
    "## Getting data for our model"
   ]
  },
  {
   "cell_type": "markdown",
   "id": "9404e084",
   "metadata": {},
   "source": [
    "Importing CSV file of the courses from IIT course status report. We only keep columns we need, so we're dropping the rest. "
   ]
  },
  {
   "cell_type": "code",
   "execution_count": 2,
   "id": "80dc16d3",
   "metadata": {},
   "outputs": [],
   "source": [
    "#Every course section in IIT fall 2022 semester, from IIT course status report\n",
    "df = pd.read_csv(\"CourseStatusReport--2022-04-16.csv\")\n",
    "df = df.drop(columns=[\"Status\", \"Cross List Code\", \"College\", \"Department\", \"Schedule Type\", \"Max Enrollment\", \"Current Enrollment\", \"Enrollment Available\", \"Waitlist Count\", \"Campus\", \"Location\", \"Seating\", \"Dates\"])"
   ]
  },
  {
   "cell_type": "markdown",
   "id": "2b9f561d",
   "metadata": {},
   "source": [
    "We don't have a way of getting course rating and professor difficulty, so we populate this data with random numbers for this project. We maintain a consistent seed to maintain consistent results, though. "
   ]
  },
  {
   "cell_type": "code",
   "execution_count": 3,
   "id": "1d0c209b",
   "metadata": {},
   "outputs": [],
   "source": [
    "random.seed(2022)\n",
    "df[\"Course Quality\"]=[random.randrange(5) for i in range(len(df))]\n",
    "df[\"Professor Difficulty\"]=[random.randrange(5) for i in range(len(df))]"
   ]
  },
  {
   "cell_type": "markdown",
   "id": "e23cd6a9",
   "metadata": {},
   "source": [
    "We also have a seperate ID column. A CRN might work, but many lab and recitation sections of a course have the same CRN but are listed as 2 sperate rows, so we need a seperate ID number to be a unique identifier"
   ]
  },
  {
   "cell_type": "code",
   "execution_count": 4,
   "id": "5963b790",
   "metadata": {},
   "outputs": [],
   "source": [
    "df[\"ID\"] = range(len(df))"
   ]
  },
  {
   "cell_type": "markdown",
   "id": "49901063",
   "metadata": {},
   "source": [
    "## Creating the model"
   ]
  },
  {
   "cell_type": "markdown",
   "id": "2e7ae556",
   "metadata": {},
   "source": [
    "This is our model"
   ]
  },
  {
   "cell_type": "code",
   "execution_count": 5,
   "id": "82cfaf2f",
   "metadata": {},
   "outputs": [],
   "source": [
    "model=CpoModel()"
   ]
  },
  {
   "cell_type": "markdown",
   "id": "010461a8",
   "metadata": {},
   "source": [
    "Here is where we create the variables for our models. Each course section is represented with a binary variable, that is, an integer variable restricted to only the values 0 and 1. \n",
    "Linear optimization variables are represented in cplex just as any other programming variable, so we have to store all of the class variables in the array `classvariables`.  \n",
    "We also add the cplex variable associated with each course section to the dataframe row corresponding that course "
   ]
  },
  {
   "cell_type": "code",
   "execution_count": 6,
   "id": "28ab66d7",
   "metadata": {},
   "outputs": [],
   "source": [
    "#creating binary vars for each class\n",
    "classVariables=[]\n",
    "for index, row in df.iterrows():\n",
    "    classVariables.append(model.integer_var(min=0, max=1, name=\"id\"+str(row['ID'])))    \n",
    "    #print(\"crn\"+str(row['CRN']))\n",
    "df['Vars']=classVariables"
   ]
  },
  {
   "cell_type": "markdown",
   "id": "dca43375",
   "metadata": {},
   "source": [
    "### Adding Constraints"
   ]
  },
  {
   "cell_type": "markdown",
   "id": "109f895b",
   "metadata": {},
   "source": [
    "The first constraint we add is course section. We want to ensure that our model does not suggest to take 2 sections of the same course. To do this, we first create a dictionary. The keys are the course number (for example \"MATH 535\") and the values are a list of course variables corresponding to a section of the course. \n",
    "We would make the sum of all variables in this list be either 1, 0, or either, depending on whether this course is required, requested, or neither, respectively. This information is found out later, so we make the constraints themselves then. "
   ]
  },
  {
   "cell_type": "code",
   "execution_count": 7,
   "id": "ea06ebf0",
   "metadata": {},
   "outputs": [],
   "source": [
    "#Course sections constraint\n",
    "#Make a dictionary. Keys: Course subject course number touple. Values: variables\n",
    "sections2 = {}\n",
    "for idx, x in enumerate(df[\"Course Code\"]): #List through all Course Codes. Consider the place before the hyphen on \"Course Code\"\n",
    "    #print(x.split(\"-\")[0])\n",
    "    x = x.split(\"-\")[0]\n",
    "    if(x not in sections2):\n",
    "        sections2[x] = [classVariables[idx]]\n",
    "    else:\n",
    "        sections2[x].append(classVariables[idx])\n",
    "#For each key in the dictionary, add a constraint\n",
    "# for coursecode in sections2:\n",
    "#     #For each constraint: the sum of all CRN's is equal to 1\n",
    "#     allsectionssum = model.sum(1*(sections2[coursecode][i]) for i in range(len(sections2[coursecode])))\n",
    "#     model.add_constraint(allsectionssum <= 1)\n",
    "#     #print(allsectionssum)"
   ]
  },
  {
   "cell_type": "markdown",
   "id": "24862546",
   "metadata": {},
   "source": [
    "The next constraint we add is time slot. The time slot constraint is that the sum of all courses taken at the same time slot must be 1. So the first thing we do is we create a dictionary. The keys are the time slots, and the values are lists of course variables corresponding to that time slot. \n",
    "We immediately create the constraint that the sum of the number of all courses in the same time slot is at most 1. In other words, there either is 1 course at a certain time slot, or there are none. "
   ]
  },
  {
   "cell_type": "code",
   "execution_count": 8,
   "id": "0cace22a",
   "metadata": {},
   "outputs": [],
   "source": [
    "#Course time slot constraints\n",
    "#Make a dictionary. Keys: Course time slot. Values: ID's\n",
    "timeslots = {}\n",
    "for idx, x in enumerate(df[\"Time\"]): #List through all Time slots\"\n",
    "    if((type(df[\"Days\"][idx]))!=float):\n",
    "        for char in (df[\"Days\"][idx]):\n",
    "            timeday = char+x\n",
    "            if(timeday not in timeslots):\n",
    "                timeslots[timeday] = [classVariables[idx]]\n",
    "            else:\n",
    "                timeslots[timeday].append(classVariables[idx])\n",
    "#For each key in the dictionary, add a constraint\n",
    "for timeslot in timeslots:\n",
    "    #For each constraint: the sum of all CRN's is equal to 1\n",
    "    alltimeslotssum = model.sum(1*(timeslots[timeslot][i]) for i in range(len(timeslots[timeslot])))\n",
    "    model.add_constraint(alltimeslotssum <= 1)\n"
   ]
  },
  {
   "cell_type": "code",
   "execution_count": 9,
   "id": "12d872c9",
   "metadata": {},
   "outputs": [],
   "source": [
    "# #Credit count: The sum of the credit count for all taken sections is less that 18 and bigger than 12\n",
    "# creditCount = [0]*len(df)\n",
    "# for i in range(len(df)):\n",
    "#     creditCount[i]=df[\"Credits\"][i]\n",
    "# creditCount[:5]"
   ]
  },
  {
   "cell_type": "markdown",
   "id": "d6d2e83a",
   "metadata": {},
   "source": [
    "Here we ask the user for the minimum and maximum credit count allowed for the schedule. These feed directly into a constraint: the sum of the credit value of all courses selected by the schedule cannot exceed the maximum credit count inputted and cannot be less than the minimum credit count inputted. "
   ]
  },
  {
   "cell_type": "code",
   "execution_count": 10,
   "id": "809000b4",
   "metadata": {},
   "outputs": [
    {
     "name": "stdout",
     "output_type": "stream",
     "text": [
      "Enter a min credits you need to take 12\n",
      "Enter a max credits you need to take 18\n"
     ]
    }
   ],
   "source": [
    "required_classes=[]\n",
    "mincredits = int(input(\"Enter a min credits you need to take \"))\n",
    "maxcredits = int(input(\"Enter a max credits you need to take \"))"
   ]
  },
  {
   "cell_type": "code",
   "execution_count": 11,
   "id": "09bdf37b",
   "metadata": {},
   "outputs": [],
   "source": [
    "allcreditcountsum = model.sum(df[\"Credits\"][i] * df[\"Vars\"][i] for i in range(len(df)))\n",
    "model.add_constraint(allcreditcountsum <= maxcredits)\n",
    "model.add_constraint(allcreditcountsum >= mincredits)"
   ]
  },
  {
   "cell_type": "code",
   "execution_count": 12,
   "id": "568598b1",
   "metadata": {},
   "outputs": [],
   "source": [
    "#observe that constraints were added\n",
    "#model.print_information()"
   ]
  },
  {
   "cell_type": "markdown",
   "id": "c26c293d",
   "metadata": {},
   "source": [
    "Here is where we ask for the specific classes required and requested.  \n",
    "Required courses are courses that must be a part of the schedule. \n",
    "Requested courses are courses that could be a part of the schedule. \n",
    "We assume that courses listed as neither required or requested courses are not to be taken at all.\n",
    "\n",
    "As an example, we give a situation with many possible choices: a first semester CS major. A CS major must take CS100 and CS201 as soon as possible, but there are many other courses also availible to take in the meantime which are listed in the input for cell for requested classes. "
   ]
  },
  {
   "cell_type": "code",
   "execution_count": 16,
   "id": "047caf14",
   "metadata": {},
   "outputs": [
    {
     "name": "stdout",
     "output_type": "stream",
     "text": [
      "Enter a course you need to take CS 100\n",
      "Enter another course you need to take. \n",
      "Type \"Exit\" to stop adding courses CS 201\n",
      "Enter another course you need to take. \n",
      "Type \"Exit\" to stop adding courses EXIT\n"
     ]
    }
   ],
   "source": [
    "required_classes=[]\n",
    "val=\"class\"\n",
    "val=input(\"Enter a course you need to take \")\n",
    "while val.lower()!=\"exit\":\n",
    "    required_classes.append(val)\n",
    "    val=input(\"Enter another course you need to take. \\nType \\\"Exit\\\" to stop adding courses \")"
   ]
  },
  {
   "cell_type": "code",
   "execution_count": 17,
   "id": "08b325d2",
   "metadata": {},
   "outputs": [
    {
     "name": "stdout",
     "output_type": "stream",
     "text": [
      "Enter a course you want to take MATH 151\n",
      "Enter another course you want to take. \n",
      "Type \"Exit\" to stop adding courses CHEM 124\n",
      "Enter another course you want to take. \n",
      "Type \"Exit\" to stop adding courses PHYS 123\n",
      "Enter another course you want to take. \n",
      "Type \"Exit\" to stop adding courses CS 350\n",
      "Enter another course you want to take. \n",
      "Type \"Exit\" to stop adding courses PSYC 303\n",
      "Enter another course you want to take. \n",
      "Type \"Exit\" to stop adding courses EXIT\n"
     ]
    }
   ],
   "source": [
    "requested_classes=[]\n",
    "val=\"class\"\n",
    "val=input(\"Enter a course you want to take \")\n",
    "while val.lower()!=\"exit\":\n",
    "    requested_classes.append(val)\n",
    "    val=input(\"Enter another course you want to take. \\nType \\\"Exit\\\" to stop adding courses \")"
   ]
  },
  {
   "cell_type": "code",
   "execution_count": null,
   "id": "91603565",
   "metadata": {},
   "outputs": [],
   "source": [
    "#Seeing if coursecode keys are strings\n",
    "#for coursecode in sections2:\n",
    " #   print(coursecode, \" \", type(coursecode))"
   ]
  },
  {
   "cell_type": "markdown",
   "id": "0d6978ff",
   "metadata": {},
   "source": [
    "Here we finish implementing the course section constraint. Note that for required classes, there must be exactly one section taken, and for requested classes, it is up to 1. For all other classes, this sum must be 0 (ie we ignore classes that are neither required nor requested). "
   ]
  },
  {
   "cell_type": "code",
   "execution_count": 18,
   "id": "bf407a18",
   "metadata": {},
   "outputs": [],
   "source": [
    "#Adding constraints for what courses to take, and identical course conflict avoidance\n",
    "for coursecode in sections2:\n",
    "    #For each constraint: the sum of all CRN's is equal to 1\n",
    "    allsectionssum = model.sum(1*(sections2[coursecode][i]) for i in range(len(sections2[coursecode])))\n",
    "    if(coursecode in required_classes):\n",
    "        model.add_constraint(allsectionssum == 1)\n",
    "    elif(coursecode in requested_classes):\n",
    "        model.add_constraint(allsectionssum <= 1)\n",
    "    else:\n",
    "        model.add_constraint(allsectionssum == 0)"
   ]
  },
  {
   "cell_type": "markdown",
   "id": "a24c911e",
   "metadata": {},
   "source": [
    "### Adding cost function"
   ]
  },
  {
   "cell_type": "markdown",
   "id": "f2c89ea5",
   "metadata": {},
   "source": [
    "Here is where we construct our cost funtion ratios, as described earlier in our report. We ask thse questons here"
   ]
  },
  {
   "cell_type": "code",
   "execution_count": 19,
   "id": "711afe85",
   "metadata": {},
   "outputs": [
    {
     "name": "stdout",
     "output_type": "stream",
     "text": [
      "Hypothetically, there's a 1/5 quality course at a non-8:35 AM time slot. How good does the course have to be (1-5) to justify moving to 8:35 AM?  1\n",
      "For every 1 point increase in professor difficulty, how many points better should their course be to justify it? 1\n"
     ]
    }
   ],
   "source": [
    "a = int(input(\"\"\"Hypothetically, there's a 1/5 quality course at a non-8:35 AM time slot. How good does the course have to be (1-5) to justify moving to 8:35 AM?  \"\"\"))\n",
    "\n",
    "b = int(input(\"\"\"For every 1 point increase in professor difficulty, how many points better should their course be to justify it? \"\"\"))"
   ]
  },
  {
   "cell_type": "markdown",
   "id": "0bc0be69",
   "metadata": {},
   "source": [
    "Here we generate the function to minimize. So every positive term we add is a \"penalty\" for a schedule. There is a penalty for professor difficulty, and a penalty for course quality's distance from 5 (the highest score). We add this penalty to the minimization function. This penalty is applied for every course section. "
   ]
  },
  {
   "cell_type": "code",
   "execution_count": 20,
   "id": "dbfca2ef",
   "metadata": {},
   "outputs": [],
   "source": [
    "#creating minimization function (course quality and prof difficulty)\n",
    "min_func=0\n",
    "for index, row in df.iterrows():\n",
    "    min_func+=(((5-row['Course Quality']))+(a*row['Professor Difficulty']))*row['Vars']\n",
    "    "
   ]
  },
  {
   "cell_type": "markdown",
   "id": "fcb8549b",
   "metadata": {},
   "source": [
    "We also add a penalty (whose magnitude depends on user input) for having a class be at 8:35am. This decision is arbitrary, but it's there to demonstrate that this model can incorperate many properties about a course section into the cost function. "
   ]
  },
  {
   "cell_type": "code",
   "execution_count": 21,
   "id": "135b24dd",
   "metadata": {},
   "outputs": [],
   "source": [
    "earlyClassPenalty = (b-1)\n",
    "for index, row in df.iterrows():\n",
    "    if(row[\"Time\"]==\"0835 - 0950\"):\n",
    "        min_func += (earlyClassPenalty * row['Vars'])"
   ]
  },
  {
   "cell_type": "markdown",
   "id": "a383b06f",
   "metadata": {},
   "source": [
    "Here we finalize the minimization problem and add it to our model"
   ]
  },
  {
   "cell_type": "code",
   "execution_count": 22,
   "id": "886578cd",
   "metadata": {},
   "outputs": [],
   "source": [
    "min_func=model.minimize(min_func)\n",
    "model.add(min_func)"
   ]
  },
  {
   "cell_type": "code",
   "execution_count": 23,
   "id": "8ef729af",
   "metadata": {},
   "outputs": [],
   "source": [
    "#observe that constraints were added\n",
    "#model.print_information()"
   ]
  },
  {
   "cell_type": "markdown",
   "id": "5a63021d",
   "metadata": {},
   "source": [
    "## Solving the model"
   ]
  },
  {
   "cell_type": "code",
   "execution_count": 24,
   "id": "8191a65d",
   "metadata": {},
   "outputs": [
    {
     "name": "stdout",
     "output_type": "stream",
     "text": [
      " ! --------------------------------------------------- CP Optimizer 22.1.0.0 --\n",
      " ! Minimization problem - 2619 variables, 1114 constraints\n",
      " ! Presolve      : 40 extractables eliminated\n",
      " ! Initial process time : 0.07s (0.07s extraction + 0.00s propagation)\n",
      " !  . Log search space  : 70.0 (before), 70.0 (after)\n",
      " !  . Memory usage      : 3.9 MB (before), 3.9 MB (after)\n",
      " ! Using parallel search with 8 workers.\n",
      " ! ----------------------------------------------------------------------------\n",
      " !          Best Branches  Non-fixed    W       Branch decision\n",
      "                        0         70                 -\n",
      " + New bound is 0\n",
      "                        0         70    1   F        -\n",
      " + New bound is 4\n",
      "                       28         16    1   F     0 != id593\n",
      " + New bound is 5\n",
      " *            23       91  0.15s        1      (gap is 78.26%)\n",
      " *            20      242  0.15s        1      (gap is 75.00%)\n",
      " *            16      342  0.16s        1      (gap is 68.75%)\n",
      " *            15      729  0.16s        1      (gap is 66.67%)\n",
      " *            12      827  0.16s        1      (gap is 58.33%)\n",
      "              12     1000          1    1         1 != id787\n",
      "              12     1000          1    2         0  = id1772\n",
      " *            10      930  0.16s        3      (gap is 50.00%)\n",
      " *             9      973  0.16s        3      (gap is 44.44%)\n",
      "               9     1000          1    3            -\n",
      "               9     1000          1    4         1 != id743\n",
      "               9     1000          1    5   F     0 != id1764\n",
      "               9     1000          1    6   F     0 != id1765\n",
      "               9     1000          1    7   F     1  = id741\n",
      "               9     1000          2    8   F     0  = id2428\n",
      "               9     1463          6    7            -\n",
      " + New bound is 9 (gap is 0.00%)\n",
      " ! ----------------------------------------------------------------------------\n",
      " ! Search completed, 7 solutions found.\n",
      " ! Best objective         : 9 (optimal - effective tol. is 0)\n",
      " ! Best bound             : 9\n",
      " ! ----------------------------------------------------------------------------\n",
      " ! Number of branches     : 14082\n",
      " ! Number of fails        : 5866\n",
      " ! Total memory usage     : 46.2 MB (45.6 MB CP Optimizer + 0.6 MB Concert)\n",
      " ! Time spent in solve    : 0.21s (0.14s engine + 0.07s extraction)\n",
      " ! Search speed (br. / s) : 100585.8\n",
      " ! ----------------------------------------------------------------------------\n"
     ]
    }
   ],
   "source": [
    "#solving model\n",
    "sol2=model.solve()\n",
    "#sol2.print_solution()"
   ]
  },
  {
   "cell_type": "markdown",
   "id": "bc297ee7",
   "metadata": {},
   "source": [
    "Here we show an optimal solution to the model. It generally makes sense, as it looks like a typical schedule of a first semester CS student\n",
    "\n",
    "We note that it chose a virtual section of CS 201, which allowed for more flexibility with other class's time slots. This makes sense, as several students use exactly this strategy"
   ]
  },
  {
   "cell_type": "code",
   "execution_count": 25,
   "id": "54571e0e",
   "metadata": {},
   "outputs": [
    {
     "name": "stdout",
     "output_type": "stream",
     "text": [
      "Here's your \"optimal\" schedule: \n",
      "CS 100-L05 on T at 1350 - 1505\n",
      "CS 201-03 on nan at  - \n",
      "MATH 151-01 on MWF at 0835 - 0950\n",
      "PSYC 303-01 on MW at 1125 - 1240\n"
     ]
    }
   ],
   "source": [
    "print(\"Here's your \\\"optimal\\\" schedule: \")\n",
    "for index, row in df.iterrows():\n",
    "    #print(sol2.get_value(\"id\"+str(index)))\n",
    "    if(sol2.get_value(\"id\"+str(index))!=0):\n",
    "        print(df[\"Course Code\"][index], \"on\", df[\"Days\"][index],\"at\", df[\"Time\"][index])"
   ]
  },
  {
   "cell_type": "markdown",
   "id": "4c139edf",
   "metadata": {},
   "source": [
    "And here we show all feasible solutions, which includes solutions that are not quite as optimal but present alternatives in case what the model outputted is either undesirable for reasons beyond what the model tracks or a user just wants to see what other options there might be. The last solution is the optimal one."
   ]
  },
  {
   "cell_type": "code",
   "execution_count": 26,
   "id": "03d99d04",
   "metadata": {},
   "outputs": [
    {
     "name": "stdout",
     "output_type": "stream",
     "text": [
      " ! --------------------------------------------------- CP Optimizer 22.1.0.0 --\n",
      " ! Minimization problem - 2619 variables, 1114 constraints\n",
      " ! Presolve      : 40 extractables eliminated\n",
      " ! Workers              = 1\n",
      " ! SearchType           = DepthFirst\n",
      " ! Initial process time : 0.04s (0.04s extraction + 0.00s propagation)\n",
      " !  . Log search space  : 70.0 (before), 70.0 (after)\n",
      " !  . Memory usage      : 3.9 MB (before), 3.9 MB (after)\n",
      " ! Using sequential search.\n",
      " ! ----------------------------------------------------------------------------\n",
      " !          Best Branches  Non-fixed            Branch decision\n",
      " *            15      271  0.04s          \n",
      "\n",
      "Here is a feasible solution\n",
      "CHEM 124-03 on TR at 1125 - 1240\n",
      "CS 100-L04 on M at 1825 - 1940\n",
      "CS 201-02 on TR at 1350 - 1505\n",
      "MATH 151-01 on MWF at 0835 - 0950\n",
      " *            14      276  0.04s          \n",
      "\n",
      "Here is a feasible solution\n",
      "CHEM 124-03 on TR at 1125 - 1240\n",
      "CS 100-L04 on M at 1825 - 1940\n",
      "CS 201-03 on nan at  - \n",
      "MATH 151-01 on MWF at 0835 - 0950\n",
      " *            10      279  0.04s          \n",
      "\n",
      "Here is a feasible solution\n",
      "CHEM 124-03 on TR at 1125 - 1240\n",
      "CS 100-L12 on W at 1825 - 1940\n",
      "CS 201-03 on nan at  - \n",
      "MATH 151-01 on MWF at 0835 - 0950\n",
      "              10     1000          1              0  = id748\n",
      " *             9     1280  0.05s          \n",
      "\n",
      "Here is a feasible solution\n",
      "CHEM 124-01 on MW at 1000 - 1115\n",
      "CS 100-L05 on T at 1350 - 1505\n",
      "CS 201-03 on nan at  - \n",
      "MATH 151-05 on MWF at 1125 - 1240\n",
      " ! ----------------------------------------------------------------------------\n",
      " ! Search completed, 4 solutions found.\n",
      " ! Best objective         : 9 (optimal - effective tol. is 0)\n",
      " ! Best bound             : -Infinity (no gap)\n",
      " ! ----------------------------------------------------------------------------\n",
      " ! Number of branches     : 1386\n",
      " ! Number of fails        : 690\n",
      " ! Total memory usage     : 12.8 MB (12.2 MB CP Optimizer + 0.6 MB Concert)\n",
      " ! Time spent in solve    : 0.06s (0.02s engine + 0.04s extraction)\n",
      " ! Search speed (br. / s) : 69300.1\n",
      " ! ----------------------------------------------------------------------------\n"
     ]
    }
   ],
   "source": [
    "lsols=model.start_search(SearchType='DepthFirst', Workers=1)\n",
    "index\n",
    "for sol in lsols:\n",
    "    #sol.write()\n",
    "    print(\"\\nHere is a feasible solution\")\n",
    "    for index, row in df.iterrows():\n",
    "        if(sol.get_value(\"id\"+str(index))!=0):\n",
    "            print(df[\"Course Code\"][index], \"on\", df[\"Days\"][index],\"at\", df[\"Time\"][index])"
   ]
  },
  {
   "cell_type": "code",
   "execution_count": null,
   "id": "bef5e69e",
   "metadata": {},
   "outputs": [],
   "source": []
  }
 ],
 "metadata": {
  "kernelspec": {
   "display_name": "Python 3",
   "language": "python",
   "name": "python3"
  },
  "language_info": {
   "codemirror_mode": {
    "name": "ipython",
    "version": 3
   },
   "file_extension": ".py",
   "mimetype": "text/x-python",
   "name": "python",
   "nbconvert_exporter": "python",
   "pygments_lexer": "ipython3",
   "version": "3.9.4"
  }
 },
 "nbformat": 4,
 "nbformat_minor": 5
}
